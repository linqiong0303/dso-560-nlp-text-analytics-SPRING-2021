{
 "cells": [
  {
   "cell_type": "markdown",
   "metadata": {},
   "source": [
    "# Encoding Schemes\n",
    "\n",
    "This is not a computer science class, but in your practical work, you will frequently have to deal with text that is encoded in a variety of styles. Understanding the difference between them is key.\n",
    "\n",
    "### Implications for Data Science\n",
    "\n",
    "Reasons I've encountered in my own work with NLP why it is beneficial to understand text encoding schemes:\n",
    "* If you are not using the right encoding, you cannot perform adequate feature engineering\n",
    "* Some data-scientists have simply \"thrown away\" samples of tweets, social media comments that seem \"mal-formed\" but are actually simply just using a different encoding scheme\n",
    "\n",
    "## World Languages, in Context\n",
    "\n",
    "<figure>\n",
    "  <img src=\"images/most_popular_languages.png\" alt=\"my alt text\"/>\n",
    "</figure>\n",
    "\n",
    "## Bits and Bytes\n",
    "\n",
    "- Computers, at its lowest level, store everything in the form of bits (either a 0 or a 1). The amount of information that can be represented in a computer is determined by the number of bits.\n",
    "\n",
    "For instance, a using only 4 bits, you can store **$2^4$ = 16** different values.\n",
    "<figure>\n",
    "  <img src=\"images/binary.png\" alt=\"my alt text\"/>\n",
    "    <figcaption><i>How <b>$101010$</b> is converted to decimal (human-readable numbers): each of the green numbers is summed up to equal 42.</i></figcaption>\n",
    "</figure>\n",
    "\n",
    "It is not physically efficient for a computer to try to read one bit at a time, so typically data is stored in **8-bit** groups called **bytes**.\n"
   ]
  },
  {
   "cell_type": "markdown",
   "metadata": {},
   "source": [
    "### Exercises\n",
    "1. How many bits (0s and 1s) does it take to represent **4 different characters**?"
   ]
  },
  {
   "cell_type": "code",
   "execution_count": 1,
   "metadata": {},
   "outputs": [
    {
     "data": {
      "text/plain": [
       "4"
      ]
     },
     "execution_count": 1,
     "metadata": {},
     "output_type": "execute_result"
    }
   ],
   "source": [
    "2 ** 2"
   ]
  },
  {
   "cell_type": "markdown",
   "metadata": {},
   "source": [
    "2. How many bits (0s and 1s) does it take to represent **128 different characters**?"
   ]
  },
  {
   "cell_type": "code",
   "execution_count": 2,
   "metadata": {},
   "outputs": [
    {
     "data": {
      "text/plain": [
       "128"
      ]
     },
     "execution_count": 2,
     "metadata": {},
     "output_type": "execute_result"
    }
   ],
   "source": [
    "2 ** 7"
   ]
  },
  {
   "cell_type": "code",
   "execution_count": null,
   "metadata": {},
   "outputs": [],
   "source": [
    "# Encoding\n",
    "\n",
    "1. Take a character (\"A\")\n",
    "2. Convert to a number (\"65\")\n",
    "3. Convert to binary ()"
   ]
  },
  {
   "cell_type": "markdown",
   "metadata": {},
   "source": [
    "\n",
    "## ASCII\n",
    "\n",
    "The oldest, yet still relevant encoding style to be aware of is **ASCII**, where computers represent text (**every character on a keyboard**) initially as a number between 0 and 127 (question: how many bits does it take to do this?)\n",
    "\n",
    "<figure>\n",
    "  <img src=\"images/ascii.svg\" alt=\"my alt text\"/>\n",
    "    <figcaption><i>ASCII table converting numbers to characters.<b>(Wikipedia)</b></i></figcaption>\n",
    "</figure>\n",
    "\n",
    "*If the smallest amount of data a computer can realistically read in is a byte (**8-bits**), why is ASCII only **7-bits**?* The last bit was a **parity bit** is used for **error checking** - to ensure that the data wasn't corrected or unintentionally altered.\n",
    "\n",
    "### Encoding/Decoding Words\n",
    "\n",
    "How would you write the word `Data` using ASCII encoding?\n",
    "\n",
    "#### Steps:\n",
    "\n",
    "1. Look up the \"codepoint\" for the first character (`D`).\n",
    "\n",
    "When you look up the character map value for `D`, its corresponding codepoint is `68`. Note that this is a different codepoint than lowercase `d`.\n",
    "\n",
    "2. Write out that number in binary.\n",
    "\n",
    "<figure>\n",
    "  <img src=\"images/empty_binary_workbook.png\" alt=\"my alt text\"/>\n",
    "</figure>\n",
    "\n",
    "<figure>\n",
    "  <img src=\"images/full_binary_workbook.png\" alt=\"my alt text\"/>\n",
    "</figure>\n",
    "\n",
    "The ASCII binary encoding for `D` is `1000100`.\n",
    "\n",
    "3. Repeat for `a`, `t`, and `a`.\n",
    "\n",
    "Use [this website to check your answer](https://www.rapidtables.com/convert/number/ascii-to-binary.html).\n",
    "\n",
    "### Python Code\n",
    "\n",
    "Do not worry about understanding what is happening inside the `get_binary_for_char` and `get_binary` functions. Just know that they take in a string and produce the 0s and 1s that the string is encoded in:"
   ]
  },
  {
   "cell_type": "code",
   "execution_count": null,
   "metadata": {},
   "outputs": [],
   "source": [
    "# to find out your computer's default encoding system\n",
    "import sys\n",
    "sys.getdefaultencoding()"
   ]
  },
  {
   "cell_type": "code",
   "execution_count": 3,
   "metadata": {},
   "outputs": [
    {
     "name": "stdout",
     "output_type": "stream",
     "text": [
      "D (U+0044, hex:44) - utf-8: 01000100\n",
      "a (U+0061, hex:61) - utf-8: 01100001\n",
      "t (U+0074, hex:74) - utf-8: 01110100\n",
      "a (U+0061, hex:61) - utf-8: 01100001\n"
     ]
    },
    {
     "data": {
      "text/plain": [
       "'01000100 01100001 01110100 01100001'"
      ]
     },
     "execution_count": 3,
     "metadata": {},
     "output_type": "execute_result"
    }
   ],
   "source": [
    "import re\n",
    "from typing import List\n",
    "\n",
    "def get_binary_for_char(char: str, encoding=\"utf-8\") -> str:\n",
    "    \"\"\"\n",
    "    Encodes a character using the desired encoding into its corresponding hex, then converts the\n",
    "    hex code into binary, formatted with tab spaces between byte marks.\n",
    "    \"\"\"\n",
    "\n",
    "    hex_code = char.encode(encoding).hex()\n",
    "    code_point = hex(ord(char))[2:].upper()\n",
    "\n",
    "    binary: str = f\"{int(hex_code, 16):08b}\"\n",
    "\n",
    "    byte_list: List[str] = re.findall('[01]{8}', binary)\n",
    "    formatted_binary: str = \"\\t\".join(byte_list)  # for variable length encoding, tab space between byte marks.\n",
    "    print(f\"{char} (U+{code_point.zfill(4)}, hex:{hex_code}) - {encoding}: {formatted_binary}\")\n",
    "    return formatted_binary\n",
    "\n",
    "\n",
    "def get_binary(text: str, encoding=\"utf-8\"):\n",
    "    return \" \".join([get_binary_for_char(char, encoding) for char in text])\n",
    "\n",
    "get_binary(\"Data\")"
   ]
  },
  {
   "cell_type": "code",
   "execution_count": null,
   "metadata": {},
   "outputs": [],
   "source": [
    "0\n",
    "1\n",
    "2\n",
    "3\n",
    "4\n",
    "5\n",
    "6\n"
   ]
  },
  {
   "cell_type": "code",
   "execution_count": 4,
   "metadata": {},
   "outputs": [
    {
     "name": "stdout",
     "output_type": "stream",
     "text": [
      "D (U+0044, hex:44) - ascii: 01000100\n",
      "a (U+0061, hex:61) - ascii: 01100001\n",
      "t (U+0074, hex:74) - ascii: 01110100\n",
      "a (U+0061, hex:61) - ascii: 01100001\n"
     ]
    },
    {
     "data": {
      "text/plain": [
       "'01000100 01100001 01110100 01100001'"
      ]
     },
     "execution_count": 4,
     "metadata": {},
     "output_type": "execute_result"
    }
   ],
   "source": [
    "get_binary(\"Data\", encoding=\"ascii\")"
   ]
  },
  {
   "cell_type": "markdown",
   "metadata": {},
   "source": [
    "### Extended ASCII\n",
    "\n",
    "The dominant language in earlier eras of computing was English. People began to realize that ASCII was relatively limited, and even other European languages could not be properly supported. At the same time, transmission technology evolved to a standard of reliability such that the parity bit used for checking for errors was no longer needed. \n",
    "\n",
    "As a result, people began using the last (eighth) bit to extend the number of characters represented by ASCII from 128 characters to 256 characters.\n",
    "\n",
    "#### Latin-1\n",
    "\n",
    "Character map [available here](https://www.htmlhelp.com/reference/charset/latin1.gif).\n",
    "\n",
    "Characters such as `Ç` (pronounced `ch` in Turkish, for instance), is represented by the number `199`. The Spanish word `año` (year) includes a character `ñ` that would be represented by the code point `241`.\n",
    "\n",
    "#### Excel on Macs\n",
    "\n",
    "Macs commonly use [Mac OS Roman encoding](https://en.wikipedia.org/wiki/Mac_OS_Roman). "
   ]
  },
  {
   "cell_type": "code",
   "execution_count": 7,
   "metadata": {},
   "outputs": [
    {
     "name": "stdout",
     "output_type": "stream",
     "text": [
      "c (U+0063, hex:63) - latin1: 01100011\n",
      "a (U+0061, hex:61) - latin1: 01100001\n",
      "t (U+0074, hex:74) - latin1: 01110100\n"
     ]
    },
    {
     "data": {
      "text/plain": [
       "'01100011 01100001 01110100'"
      ]
     },
     "execution_count": 7,
     "metadata": {},
     "output_type": "execute_result"
    }
   ],
   "source": [
    "get_binary(\"cat\", encoding=\"latin1\")"
   ]
  },
  {
   "cell_type": "code",
   "execution_count": 9,
   "metadata": {},
   "outputs": [
    {
     "name": "stdout",
     "output_type": "stream",
     "text": [
      "¿ (U+00BF, hex:bf) - latin1: 10111111\n",
      "C (U+0043, hex:43) - latin1: 01000011\n",
      "u (U+0075, hex:75) - latin1: 01110101\n",
      "á (U+00E1, hex:e1) - latin1: 11100001\n",
      "n (U+006E, hex:6e) - latin1: 01101110\n",
      "t (U+0074, hex:74) - latin1: 01110100\n",
      "a (U+0061, hex:61) - latin1: 01100001\n",
      "s (U+0073, hex:73) - latin1: 01110011\n",
      "? (U+003F, hex:3f) - latin1: 00111111\n"
     ]
    },
    {
     "data": {
      "text/plain": [
       "'10111111 01000011 01110101 11100001 01101110 01110100 01100001 01110011 00111111'"
      ]
     },
     "execution_count": 9,
     "metadata": {},
     "output_type": "execute_result"
    }
   ],
   "source": [
    "#get_binary(\"¿Cuántas?\", encoding=\"ascii\")\n",
    "get_binary(\"¿Cuántas?\", encoding=\"latin1\")"
   ]
  },
  {
   "cell_type": "markdown",
   "metadata": {},
   "source": [
    "### Exercises\n",
    "\n",
    "#### Encode the word **`más`** in ASCII."
   ]
  },
  {
   "cell_type": "markdown",
   "metadata": {},
   "source": [
    "#### Encode the word **`más`** in **`latin1`**."
   ]
  },
  {
   "cell_type": "code",
   "execution_count": 10,
   "metadata": {},
   "outputs": [
    {
     "name": "stdout",
     "output_type": "stream",
     "text": [
      "m (U+006D, hex:6d) - ascii: 01101101\n"
     ]
    },
    {
     "ename": "UnicodeEncodeError",
     "evalue": "'ascii' codec can't encode character '\\xe1' in position 0: ordinal not in range(128)",
     "output_type": "error",
     "traceback": [
      "\u001b[0;31m---------------------------------------------------------------------------\u001b[0m",
      "\u001b[0;31mUnicodeEncodeError\u001b[0m                        Traceback (most recent call last)",
      "\u001b[0;32m<ipython-input-10-b5d8dcda3749>\u001b[0m in \u001b[0;36m<module>\u001b[0;34m\u001b[0m\n\u001b[1;32m      1\u001b[0m \u001b[0;31m# using Python to check\u001b[0m\u001b[0;34m\u001b[0m\u001b[0;34m\u001b[0m\u001b[0;34m\u001b[0m\u001b[0m\n\u001b[0;32m----> 2\u001b[0;31m \u001b[0mget_binary\u001b[0m\u001b[0;34m(\u001b[0m\u001b[0;34m\"más\"\u001b[0m\u001b[0;34m,\u001b[0m \u001b[0mencoding\u001b[0m\u001b[0;34m=\u001b[0m\u001b[0;34m\"ascii\"\u001b[0m\u001b[0;34m)\u001b[0m\u001b[0;34m\u001b[0m\u001b[0;34m\u001b[0m\u001b[0m\n\u001b[0m",
      "\u001b[0;32m<ipython-input-3-f81be8f36eb3>\u001b[0m in \u001b[0;36mget_binary\u001b[0;34m(text, encoding)\u001b[0m\n\u001b[1;32m     20\u001b[0m \u001b[0;34m\u001b[0m\u001b[0m\n\u001b[1;32m     21\u001b[0m \u001b[0;32mdef\u001b[0m \u001b[0mget_binary\u001b[0m\u001b[0;34m(\u001b[0m\u001b[0mtext\u001b[0m\u001b[0;34m:\u001b[0m \u001b[0mstr\u001b[0m\u001b[0;34m,\u001b[0m \u001b[0mencoding\u001b[0m\u001b[0;34m=\u001b[0m\u001b[0;34m\"utf-8\"\u001b[0m\u001b[0;34m)\u001b[0m\u001b[0;34m:\u001b[0m\u001b[0;34m\u001b[0m\u001b[0;34m\u001b[0m\u001b[0m\n\u001b[0;32m---> 22\u001b[0;31m     \u001b[0;32mreturn\u001b[0m \u001b[0;34m\" \"\u001b[0m\u001b[0;34m.\u001b[0m\u001b[0mjoin\u001b[0m\u001b[0;34m(\u001b[0m\u001b[0;34m[\u001b[0m\u001b[0mget_binary_for_char\u001b[0m\u001b[0;34m(\u001b[0m\u001b[0mchar\u001b[0m\u001b[0;34m,\u001b[0m \u001b[0mencoding\u001b[0m\u001b[0;34m)\u001b[0m \u001b[0;32mfor\u001b[0m \u001b[0mchar\u001b[0m \u001b[0;32min\u001b[0m \u001b[0mtext\u001b[0m\u001b[0;34m]\u001b[0m\u001b[0;34m)\u001b[0m\u001b[0;34m\u001b[0m\u001b[0;34m\u001b[0m\u001b[0m\n\u001b[0m\u001b[1;32m     23\u001b[0m \u001b[0;34m\u001b[0m\u001b[0m\n\u001b[1;32m     24\u001b[0m \u001b[0mget_binary\u001b[0m\u001b[0;34m(\u001b[0m\u001b[0;34m\"Data\"\u001b[0m\u001b[0;34m)\u001b[0m\u001b[0;34m\u001b[0m\u001b[0;34m\u001b[0m\u001b[0m\n",
      "\u001b[0;32m<ipython-input-3-f81be8f36eb3>\u001b[0m in \u001b[0;36m<listcomp>\u001b[0;34m(.0)\u001b[0m\n\u001b[1;32m     20\u001b[0m \u001b[0;34m\u001b[0m\u001b[0m\n\u001b[1;32m     21\u001b[0m \u001b[0;32mdef\u001b[0m \u001b[0mget_binary\u001b[0m\u001b[0;34m(\u001b[0m\u001b[0mtext\u001b[0m\u001b[0;34m:\u001b[0m \u001b[0mstr\u001b[0m\u001b[0;34m,\u001b[0m \u001b[0mencoding\u001b[0m\u001b[0;34m=\u001b[0m\u001b[0;34m\"utf-8\"\u001b[0m\u001b[0;34m)\u001b[0m\u001b[0;34m:\u001b[0m\u001b[0;34m\u001b[0m\u001b[0;34m\u001b[0m\u001b[0m\n\u001b[0;32m---> 22\u001b[0;31m     \u001b[0;32mreturn\u001b[0m \u001b[0;34m\" \"\u001b[0m\u001b[0;34m.\u001b[0m\u001b[0mjoin\u001b[0m\u001b[0;34m(\u001b[0m\u001b[0;34m[\u001b[0m\u001b[0mget_binary_for_char\u001b[0m\u001b[0;34m(\u001b[0m\u001b[0mchar\u001b[0m\u001b[0;34m,\u001b[0m \u001b[0mencoding\u001b[0m\u001b[0;34m)\u001b[0m \u001b[0;32mfor\u001b[0m \u001b[0mchar\u001b[0m \u001b[0;32min\u001b[0m \u001b[0mtext\u001b[0m\u001b[0;34m]\u001b[0m\u001b[0;34m)\u001b[0m\u001b[0;34m\u001b[0m\u001b[0;34m\u001b[0m\u001b[0m\n\u001b[0m\u001b[1;32m     23\u001b[0m \u001b[0;34m\u001b[0m\u001b[0m\n\u001b[1;32m     24\u001b[0m \u001b[0mget_binary\u001b[0m\u001b[0;34m(\u001b[0m\u001b[0;34m\"Data\"\u001b[0m\u001b[0;34m)\u001b[0m\u001b[0;34m\u001b[0m\u001b[0;34m\u001b[0m\u001b[0m\n",
      "\u001b[0;32m<ipython-input-3-f81be8f36eb3>\u001b[0m in \u001b[0;36mget_binary_for_char\u001b[0;34m(char, encoding)\u001b[0m\n\u001b[1;32m      8\u001b[0m     \"\"\"\n\u001b[1;32m      9\u001b[0m \u001b[0;34m\u001b[0m\u001b[0m\n\u001b[0;32m---> 10\u001b[0;31m     \u001b[0mhex_code\u001b[0m \u001b[0;34m=\u001b[0m \u001b[0mchar\u001b[0m\u001b[0;34m.\u001b[0m\u001b[0mencode\u001b[0m\u001b[0;34m(\u001b[0m\u001b[0mencoding\u001b[0m\u001b[0;34m)\u001b[0m\u001b[0;34m.\u001b[0m\u001b[0mhex\u001b[0m\u001b[0;34m(\u001b[0m\u001b[0;34m)\u001b[0m\u001b[0;34m\u001b[0m\u001b[0;34m\u001b[0m\u001b[0m\n\u001b[0m\u001b[1;32m     11\u001b[0m     \u001b[0mcode_point\u001b[0m \u001b[0;34m=\u001b[0m \u001b[0mhex\u001b[0m\u001b[0;34m(\u001b[0m\u001b[0mord\u001b[0m\u001b[0;34m(\u001b[0m\u001b[0mchar\u001b[0m\u001b[0;34m)\u001b[0m\u001b[0;34m)\u001b[0m\u001b[0;34m[\u001b[0m\u001b[0;36m2\u001b[0m\u001b[0;34m:\u001b[0m\u001b[0;34m]\u001b[0m\u001b[0;34m.\u001b[0m\u001b[0mupper\u001b[0m\u001b[0;34m(\u001b[0m\u001b[0;34m)\u001b[0m\u001b[0;34m\u001b[0m\u001b[0;34m\u001b[0m\u001b[0m\n\u001b[1;32m     12\u001b[0m \u001b[0;34m\u001b[0m\u001b[0m\n",
      "\u001b[0;31mUnicodeEncodeError\u001b[0m: 'ascii' codec can't encode character '\\xe1' in position 0: ordinal not in range(128)"
     ]
    }
   ],
   "source": [
    "# using Python to check\n",
    "get_binary(\"más\", encoding=\"ascii\")"
   ]
  },
  {
   "cell_type": "code",
   "execution_count": null,
   "metadata": {},
   "outputs": [],
   "source": []
  },
  {
   "cell_type": "markdown",
   "metadata": {},
   "source": [
    "#### Decode the binary stream **`01100011 01100001 01110100`**. Assume that it is using **`latin1`** encoding."
   ]
  },
  {
   "cell_type": "markdown",
   "metadata": {},
   "source": [
    "## Unicode\n",
    "\n",
    "128 characters is not enough to represent the characters in other Languages, like **Greek, Turkish, Cyrillic**, etc., or newer social media phenomenons like **emojis**. Unicode stores text as either 8, 16, or 32 bits (1, 2, or 4 bytes). This means there's significantly more characters that can be encoded (approximately 1 billion characters).\n",
    "\n",
    "As a point of reference, there's a total of **50,000** characters in the Chinese language (but only around **15-20,000** that are used commonly).\n",
    "\n",
    "If you don't specify the right encoding to read in text, you'll end up with something like this:\n",
    "<figure>\n",
    "  <img src=\"images/mojibake.png\" alt=\"my alt text\"/>\n",
    "    <figcaption><i>Malformed characters because of incorrect encoding.<b>(Wikipedia)</b></i></figcaption>\n",
    "</figure>\n",
    "\n",
    "### UTF-8\n",
    "\n",
    "The default encoding scheme of the internet today is `UTF-8`.\n",
    "\n",
    "<figure>\n",
    "  <img src=\"images/encoding_shares.svg\" alt=\"my alt text\"/>\n",
    "    <figcaption><i>Share of web pages with different encodings.<b>(Wikipedia)</b></i></figcaption>\n",
    "</figure>\n",
    "\n",
    "There is another encoding schema very similar to `UTF-8` called `UTF-16`. You'll typically find it being used on Windows systems and within Java applications.\n",
    "\n",
    "### Variable Length Encoding /Digitalization and Internationalization\n",
    "\n",
    "UTF-8 is the default encoding schema of the internet. Whenever you save files to disk, or read files in, your first choice should be to try using UTF-8. UTF-8 is an example of **variable-length encoding**. This means sometimes a character will take 8 bits to encode (represent), sometimes 16 bits, sometimes 24 bits, and sometimes 32 bits.\n",
    "\n",
    "On the other hand, another encoding scheme is `UTF-32`- it always takes **32 bits**. \n",
    "\n",
    "#### Data Science Implications\n",
    "UTF-8 should be your default encoding of choice when working with Big Data. Because the # of bits it takes to encode a character changes, it can be more \"storage-efficient\" on disk, and more \"memory-efficient\" when representing this text in memory. \n",
    "\n",
    "Many machine-learning algorithms (like **batch and mini-batch gradient descent**) will perform updates using batches of samples. If you choose the wrong encoding, you will not be able to fit as many samples into your batch for training as you'd like - this means your model may require significantly more training time and perform worse."
   ]
  },
  {
   "cell_type": "code",
   "execution_count": 11,
   "metadata": {},
   "outputs": [
    {
     "data": {
      "text/plain": [
       "4294967296"
      ]
     },
     "execution_count": 11,
     "metadata": {},
     "output_type": "execute_result"
    }
   ],
   "source": [
    "2 ** 32"
   ]
  },
  {
   "cell_type": "code",
   "execution_count": 12,
   "metadata": {},
   "outputs": [
    {
     "name": "stdout",
     "output_type": "stream",
     "text": [
      "I (U+0049, hex:49) - utf8: 01001001\n",
      "  (U+0020, hex:20) - utf8: 00100000\n",
      "😍 (U+1F60D, hex:f09f988d) - utf8: 11110000\t10011111\t10011000\t10001101\n",
      "  (U+0020, hex:20) - utf8: 00100000\n",
      "D (U+0044, hex:44) - utf8: 01000100\n",
      "S (U+0053, hex:53) - utf8: 01010011\n",
      "O (U+004F, hex:4f) - utf8: 01001111\n",
      "  (U+0020, hex:20) - utf8: 00100000\n",
      "5 (U+0035, hex:35) - utf8: 00110101\n",
      "6 (U+0036, hex:36) - utf8: 00110110\n",
      "0 (U+0030, hex:30) - utf8: 00110000\n"
     ]
    },
    {
     "data": {
      "text/plain": [
       "'01001001 00100000 11110000\\t10011111\\t10011000\\t10001101 00100000 01000100 01010011 01001111 00100000 00110101 00110110 00110000'"
      ]
     },
     "execution_count": 12,
     "metadata": {},
     "output_type": "execute_result"
    }
   ],
   "source": [
    "#get_binary(\"I 😍 DSO 560\", encoding=\"ascii\")\n",
    "#get_binary(\"I 😍 DSO 560\", encoding=\"latin1\")\n",
    "get_binary(\"I 😍 DSO 560\", encoding=\"utf8\")"
   ]
  },
  {
   "cell_type": "code",
   "execution_count": null,
   "metadata": {},
   "outputs": [],
   "source": []
  }
 ],
 "metadata": {
  "kernelspec": {
   "display_name": "Python 3",
   "language": "python",
   "name": "python3"
  },
  "language_info": {
   "codemirror_mode": {
    "name": "ipython",
    "version": 3
   },
   "file_extension": ".py",
   "mimetype": "text/x-python",
   "name": "python",
   "nbconvert_exporter": "python",
   "pygments_lexer": "ipython3",
   "version": "3.8.5"
  },
  "toc": {
   "base_numbering": 1,
   "nav_menu": {},
   "number_sections": true,
   "sideBar": true,
   "skip_h1_title": false,
   "title_cell": "Table of Contents",
   "title_sidebar": "Contents",
   "toc_cell": false,
   "toc_position": {},
   "toc_section_display": true,
   "toc_window_display": false
  }
 },
 "nbformat": 4,
 "nbformat_minor": 2
}
