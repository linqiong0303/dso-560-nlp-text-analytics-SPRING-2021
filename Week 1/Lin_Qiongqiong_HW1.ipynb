{
 "cells": [
  {
   "cell_type": "code",
   "execution_count": 1,
   "metadata": {},
   "outputs": [],
   "source": [
    "import re\n",
    "import html\n",
    "import pandas as pd\n",
    "from html.parser import HTMLParser"
   ]
  },
  {
   "cell_type": "code",
   "execution_count": 2,
   "metadata": {},
   "outputs": [],
   "source": [
    "good_file=pd.DataFrame(open(\"good_amazon_toy_reviews.txt\",'r'),columns=[\"line\"])\n",
    "bad_file=pd.DataFrame(open(\"poor_amazon_toy_reviews.txt\",'r'),columns=[\"line\"])"
   ]
  },
  {
   "cell_type": "code",
   "execution_count": 3,
   "metadata": {},
   "outputs": [],
   "source": [
    "good_file[\"line\"]=good_file[\"line\"].str.replace(\"\\n\", \"\")\n",
    "bad_file[\"line\"]=bad_file[\"line\"].str.replace(\"\\n\", \"\")"
   ]
  },
  {
   "cell_type": "code",
   "execution_count": 4,
   "metadata": {},
   "outputs": [],
   "source": [
    "good_file[\"line\"]=good_file[\"line\"].str.replace(r\"&#\\d+;\", \"\").replace(r\"<br\\s/>\",\" \") # remove malformed characters\n",
    "bad_file[\"line\"]=bad_file[\"line\"].str.replace(r\"&#\\d+;\", \"\").replace(r\"<br\\s/>\",\" \")"
   ]
  },
  {
   "cell_type": "code",
   "execution_count": 5,
   "metadata": {},
   "outputs": [],
   "source": [
    "chris_good=list(map(lambda line:re.search(r'\\b(christmas)\\b',line, flags=re.IGNORECASE),good_file[\"line\"]))\n",
    "chris_bad=list(map(lambda line:re.search(r'\\b(christmas)\\b',line, flags=re.IGNORECASE),bad_file[\"line\"]))"
   ]
  },
  {
   "cell_type": "code",
   "execution_count": 6,
   "metadata": {},
   "outputs": [],
   "source": [
    "chris_good=len(list(filter(lambda result: result, chris_good)))\n",
    "chris_bad=len(list(filter(lambda result: result, chris_bad)))"
   ]
  },
  {
   "cell_type": "code",
   "execution_count": 7,
   "metadata": {
    "scrolled": true
   },
   "outputs": [
    {
     "name": "stdout",
     "output_type": "stream",
     "text": [
      "Christmas appears 1128 times in good reviews\n",
      "Christmas appears 68 times in bad reviews\n"
     ]
    }
   ],
   "source": [
    "print(f'Christmas appears {chris_good} times in good reviews')\n",
    "print(f'Christmas appears {chris_bad} times in bad reviews')"
   ]
  },
  {
   "cell_type": "code",
   "execution_count": 8,
   "metadata": {},
   "outputs": [
    {
     "name": "stdout",
     "output_type": "stream",
     "text": [
      "Birthday appears 3799 times in good reviews\n",
      "Birthday appears 411 times in bad reviews\n"
     ]
    }
   ],
   "source": [
    "birth_good=list(map(lambda line:re.search(r'\\b(birthday[s]?)\\b',line, flags=re.IGNORECASE),good_file[\"line\"]))\n",
    "birth_bad=list(map(lambda line:re.search(r'\\b(birthday[s]?)\\b',line, flags=re.IGNORECASE),bad_file[\"line\"]))\n",
    "birth_good=len(list(filter(lambda result: result, birth_good)))\n",
    "birth_bad=len(list(filter(lambda result: result, birth_bad)))\n",
    "print(f'Birthday appears {birth_good} times in good reviews')\n",
    "print(f'Birthday appears {birth_bad} times in bad reviews')"
   ]
  },
  {
   "cell_type": "code",
   "execution_count": 9,
   "metadata": {
    "scrolled": true
   },
   "outputs": [
    {
     "name": "stdout",
     "output_type": "stream",
     "text": [
      "Anniversary appears 51 times in good reviews\n",
      "Anniversary appears 4 times in bad reviews\n"
     ]
    }
   ],
   "source": [
    "anni_good=list(map(lambda line:re.search(r'\\b(anniversary[s]?|anniversaries)\\b',line, flags=re.IGNORECASE),good_file[\"line\"]))\n",
    "anni_bad=list(map(lambda line:re.search(r'\\b(anniversary[s]?|anniversaries)\\b',line, flags=re.IGNORECASE),bad_file[\"line\"]))\n",
    "anni_good=len(list(filter(lambda result: result, anni_good)))\n",
    "anni_bad=len(list(filter(lambda result: result, anni_bad)))\n",
    "print(f'Anniversary appears {anni_good} times in good reviews')\n",
    "print(f'Anniversary appears {anni_bad} times in bad reviews')"
   ]
  },
  {
   "cell_type": "markdown",
   "metadata": {},
   "source": [
    "**Based on the result we have, birthday has the most positive reviews. Hence, the manager should focus marketing budget on birthday occasion**"
   ]
  },
  {
   "cell_type": "code",
   "execution_count": 10,
   "metadata": {},
   "outputs": [
    {
     "name": "stdout",
     "output_type": "stream",
     "text": [
      "male recipients appear 13773 times in good reviews\n",
      "male recipients appear 913 times in bad reviews\n"
     ]
    }
   ],
   "source": [
    "male_good=list(map(lambda line:re.search(r'\\b(husband[s]?|son[s]?|father[s]?|daddy[s]?|dad[s]?|boyfriend[s]?|brother[s]?|grandson[s]?|nephew[s]?|grandfather[s]?|grandpa[s]?)\\b',line, flags=re.IGNORECASE),good_file[\"line\"]))\n",
    "male_bad=list(map(lambda line:re.search(r'\\b(husband[s]?|son[s]?|father[s]?|daddy[s]?|dad[s]?|boyfriend[s]?|brother[s]?|grandson[s]?|nephew[s]?|grandfather[s]?|grandpa[s]?)\\b',line, flags=re.IGNORECASE),bad_file[\"line\"]))\n",
    "male_good=len(list(filter(lambda result: result, male_good)))\n",
    "male_bad=len(list(filter(lambda result: result, male_bad)))\n",
    "print(f'male recipients appear {male_good} times in good reviews')\n",
    "print(f'male recipients appear {male_bad} times in bad reviews')"
   ]
  },
  {
   "cell_type": "code",
   "execution_count": 11,
   "metadata": {},
   "outputs": [],
   "source": [
    "male_g_rate=male_good/len(good_file)"
   ]
  },
  {
   "cell_type": "code",
   "execution_count": 12,
   "metadata": {},
   "outputs": [],
   "source": [
    "male_b_rate=male_bad/len(bad_file)"
   ]
  },
  {
   "cell_type": "code",
   "execution_count": 13,
   "metadata": {},
   "outputs": [
    {
     "name": "stdout",
     "output_type": "stream",
     "text": [
      "male recipients appear in 13% good reviews\n",
      "male recipients appear in 7% bad reviews\n"
     ]
    }
   ],
   "source": [
    "print(f'male recipients appear in {round(male_g_rate*100)}% good reviews')\n",
    "print(f'male recipients appear in {round(male_b_rate*100)}% bad reviews')"
   ]
  },
  {
   "cell_type": "code",
   "execution_count": 14,
   "metadata": {},
   "outputs": [
    {
     "name": "stdout",
     "output_type": "stream",
     "text": [
      "female recipients appear 12247 times in good reviews\n",
      "female recipients appear 626 times in bad reviews\n"
     ]
    }
   ],
   "source": [
    "female_good=list(map(lambda line:re.search(r'\\b(wife[s]?|wives|daughter[s]?|monther[s]?|mommy[s]?|mom[s]?|girlfriend[s]?|sister[s]?|granddaughter[s]?|niece[s]?|grandmonther[s]?|grandmom[s]?)\\b',line, flags=re.IGNORECASE),good_file[\"line\"]))\n",
    "female_bad=list(map(lambda line:re.search(r'\\b(wife[s]?|wives|daughter[s]?|monther[s]?|mommy[s]?|mom[s]?|girlfriend[s]?|sister[s]?|granddaughter[s]?|niece[s]?|grandmonther[s]?|grandmom[s]?)\\b',line, flags=re.IGNORECASE),bad_file[\"line\"]))\n",
    "female_good=len(list(filter(lambda result: result, female_good)))\n",
    "female_bad=len(list(filter(lambda result: result, female_bad)))\n",
    "print(f'female recipients appear {female_good} times in good reviews')\n",
    "print(f'female recipients appear {female_bad} times in bad reviews')"
   ]
  },
  {
   "cell_type": "code",
   "execution_count": 15,
   "metadata": {},
   "outputs": [
    {
     "name": "stdout",
     "output_type": "stream",
     "text": [
      "female recipients appear in 12% good reviews\n",
      "female recipients appear in 5% bad reviews\n"
     ]
    }
   ],
   "source": [
    "female_g_rate=female_good/len(good_file)\n",
    "female_b_rate=female_bad/len(bad_file)\n",
    "print(f'female recipients appear in {round(female_g_rate*100)}% good reviews')\n",
    "print(f'female recipients appear in {round(female_b_rate*100)}% bad reviews')"
   ]
  },
  {
   "cell_type": "markdown",
   "metadata": {},
   "source": [
    "Even though the number of male recipients mentioned in the bad reviews is more than the number of female recipients mentioned in the bad reviews, the number of male recipients mentioned in the good reviews is also more than the number of female recipients mentioned in the good reviews. **Therefore, we can not conclude that toys purchased for male recipients tend to be much more likely to be reviewed poorly** since male recipients are more often mentioned in both good reviews and bad reviews than female recipients"
   ]
  },
  {
   "cell_type": "markdown",
   "metadata": {},
   "source": [
    "**Pitfalls/Limitations:**\n",
    "Word count analysis may not reflect the true sentiment of the reviews. It is possible some occasion or recipient words are not related to or even opposite to the real meaning of the review. We need further context analysis to ensure we only count the occasion words when the context of the review means the reviewer bought the toy for the occasion day and only count the recipient words when the context of the review means the reviewer bought the toy for certain recipient gender. "
   ]
  },
  {
   "cell_type": "markdown",
   "metadata": {},
   "source": [
    "**Business Recommendations**:\n",
    "Birthdays tend to have the most positive reviews, we could have marketing budget focused on birthday toy products. On the other side, we should figure out why Christmas and Anniversary tend to have less positive reviews and think about how to improve the products for other occasions to attract more potential customers. In addition to that, male recipients are more often mentioned in both positive and negative reviews, therefore, having marketing budget focused on male birthday toys will be a good choice. "
   ]
  },
  {
   "cell_type": "code",
   "execution_count": 11,
   "metadata": {},
   "outputs": [],
   "source": [
    "text='birthdays birthday'\n",
    "match=re.search(r'\\b(birthday[s]?)\\b',text)"
   ]
  },
  {
   "cell_type": "code",
   "execution_count": 12,
   "metadata": {},
   "outputs": [
    {
     "data": {
      "text/plain": [
       "'birthdays'"
      ]
     },
     "execution_count": 12,
     "metadata": {},
     "output_type": "execute_result"
    }
   ],
   "source": [
    "match.group()"
   ]
  },
  {
   "cell_type": "code",
   "execution_count": null,
   "metadata": {},
   "outputs": [],
   "source": []
  }
 ],
 "metadata": {
  "kernelspec": {
   "display_name": "Python 3",
   "language": "python",
   "name": "python3"
  },
  "language_info": {
   "codemirror_mode": {
    "name": "ipython",
    "version": 3
   },
   "file_extension": ".py",
   "mimetype": "text/x-python",
   "name": "python",
   "nbconvert_exporter": "python",
   "pygments_lexer": "ipython3",
   "version": "3.6.10"
  },
  "toc": {
   "base_numbering": 1,
   "nav_menu": {},
   "number_sections": true,
   "sideBar": true,
   "skip_h1_title": false,
   "title_cell": "Table of Contents",
   "title_sidebar": "Contents",
   "toc_cell": false,
   "toc_position": {},
   "toc_section_display": true,
   "toc_window_display": false
  }
 },
 "nbformat": 4,
 "nbformat_minor": 4
}
